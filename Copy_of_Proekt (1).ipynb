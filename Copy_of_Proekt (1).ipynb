{
  "nbformat": 4,
  "nbformat_minor": 0,
  "metadata": {
    "colab": {
      "provenance": []
    },
    "kernelspec": {
      "name": "python3",
      "display_name": "Python 3"
    },
    "language_info": {
      "name": "python"
    }
  },
  "cells": [
    {
      "cell_type": "code",
      "execution_count": 1,
      "metadata": {
        "id": "LZomdMHO-0ZT",
        "colab": {
          "base_uri": "https://localhost:8080/"
        },
        "outputId": "ad96b0a5-5c5d-446d-a9ff-d16d074e61c5"
      },
      "outputs": [
        {
          "output_type": "stream",
          "name": "stdout",
          "text": [
            "Mounted at /content/gdrive\n"
          ]
        }
      ],
      "source": [
        "import pandas as pd\n",
        "from google.colab import drive\n",
        "drive.mount('/content/gdrive')"
      ]
    },
    {
      "cell_type": "code",
      "source": [
        "df=pd.read_csv('/content/gdrive/MyDrive/datasettt.csv')"
      ],
      "metadata": {
        "id": "LzqQCl37-1hv"
      },
      "execution_count": 2,
      "outputs": []
    },
    {
      "cell_type": "code",
      "source": [
        "df"
      ],
      "metadata": {
        "id": "ilUKjDBi_vMc",
        "colab": {
          "base_uri": "https://localhost:8080/",
          "height": 632
        },
        "outputId": "cd114795-22b7-46b3-af1c-311df6a99a90"
      },
      "execution_count": 3,
      "outputs": [
        {
          "output_type": "execute_result",
          "data": {
            "text/plain": [
              "                            Date             User  \\\n",
              "0      2022-12-31 23:46:48+00:00    TheExtraFiles   \n",
              "1      2022-12-31 23:38:08+00:00  elusivechantues   \n",
              "2      2022-12-31 22:57:50+00:00       loscharlos   \n",
              "3      2022-12-31 22:57:35+00:00  pegsatthemovies   \n",
              "4      2022-12-31 22:50:29+00:00        Peggles12   \n",
              "...                          ...              ...   \n",
              "38711  2020-08-13 13:42:42+00:00     lellielesley   \n",
              "38712  2020-08-13 09:25:01+00:00  ClaireC73758037   \n",
              "38713  2020-08-13 00:31:57+00:00       Matzuma_Li   \n",
              "38714  2020-08-12 21:19:42+00:00   amymitchellart   \n",
              "38715  2020-08-12 20:24:50+00:00      NikkiClints   \n",
              "\n",
              "                                                    text  LikeCount  \\\n",
              "0      SO Thankful for new friendships I've made here...       25.0   \n",
              "1      This year I \\n-survived 6 months &amp; countin...        2.0   \n",
              "2      Ok these were my favorite shows I watched in 2...      148.0   \n",
              "3      Wish today was more celebratory for me. 2yrs o...        3.0   \n",
              "4      No celebrating today as two yrs ago at 7:30pm ...      584.0   \n",
              "...                                                  ...        ...   \n",
              "38711  @lmarsh77291701 Yes, that's the assumption. I ...        0.0   \n",
              "38712  We've just completed a mile walk, bit of a uph...        1.0   \n",
              "38713  #Covid19 #LongHauler here. BotH my husband &am...        1.0   \n",
              "38714  @veryvirology Both masks and medication. Preve...        3.0   \n",
              "38715  @AlStewartOBE Hear hear. My son was bedridden ...        1.0   \n",
              "\n",
              "       RetweetCount  ReplyCount  ViewCount Place  \\\n",
              "0               4.0         0.0     1304.0   NaN   \n",
              "1               0.0         0.0       89.0   NaN   \n",
              "2              12.0        36.0    18852.0   NaN   \n",
              "3               0.0         0.0      196.0   NaN   \n",
              "4              66.0        27.0    22340.0   NaN   \n",
              "...             ...         ...        ...   ...   \n",
              "38711           0.0         1.0        NaN   NaN   \n",
              "38712           0.0         0.0        NaN   NaN   \n",
              "38713           0.0         1.0        NaN   NaN   \n",
              "38714           0.0         2.0        NaN   NaN   \n",
              "38715           0.0         0.0        NaN   NaN   \n",
              "\n",
              "                                            Hashtags  PCS_patient  \\\n",
              "0                                      ['LongCovid']            1   \n",
              "1                                      ['LongCovid']            1   \n",
              "2                                      ['LongCovid']            1   \n",
              "3                                      ['LongCovid']            1   \n",
              "4                                      ['LongCovid']            1   \n",
              "...                                              ...          ...   \n",
              "38711                       ['covid19', 'LongCovid']            1   \n",
              "38712  ['longcovid', 'covidrecovery', 'longhaulers']            1   \n",
              "38713         ['Covid19', 'LongHauler', 'LongCovid']            1   \n",
              "38714                                  ['LongCovid']            1   \n",
              "38715                            ['ME', 'Longcovid']            1   \n",
              "\n",
              "       MentalHealth     label  \n",
              "0                 0      mild  \n",
              "1                 0      mild  \n",
              "2                 0      mild  \n",
              "3                 0  moderate  \n",
              "4                 0  moderate  \n",
              "...             ...       ...  \n",
              "38711             0    severe  \n",
              "38712             0    severe  \n",
              "38713             0    severe  \n",
              "38714             0    severe  \n",
              "38715             0    severe  \n",
              "\n",
              "[38716 rows x 12 columns]"
            ],
            "text/html": [
              "\n",
              "  <div id=\"df-1b428f21-8e48-4194-9643-1131c82a9d5e\" class=\"colab-df-container\">\n",
              "    <div>\n",
              "<style scoped>\n",
              "    .dataframe tbody tr th:only-of-type {\n",
              "        vertical-align: middle;\n",
              "    }\n",
              "\n",
              "    .dataframe tbody tr th {\n",
              "        vertical-align: top;\n",
              "    }\n",
              "\n",
              "    .dataframe thead th {\n",
              "        text-align: right;\n",
              "    }\n",
              "</style>\n",
              "<table border=\"1\" class=\"dataframe\">\n",
              "  <thead>\n",
              "    <tr style=\"text-align: right;\">\n",
              "      <th></th>\n",
              "      <th>Date</th>\n",
              "      <th>User</th>\n",
              "      <th>text</th>\n",
              "      <th>LikeCount</th>\n",
              "      <th>RetweetCount</th>\n",
              "      <th>ReplyCount</th>\n",
              "      <th>ViewCount</th>\n",
              "      <th>Place</th>\n",
              "      <th>Hashtags</th>\n",
              "      <th>PCS_patient</th>\n",
              "      <th>MentalHealth</th>\n",
              "      <th>label</th>\n",
              "    </tr>\n",
              "  </thead>\n",
              "  <tbody>\n",
              "    <tr>\n",
              "      <th>0</th>\n",
              "      <td>2022-12-31 23:46:48+00:00</td>\n",
              "      <td>TheExtraFiles</td>\n",
              "      <td>SO Thankful for new friendships I've made here...</td>\n",
              "      <td>25.0</td>\n",
              "      <td>4.0</td>\n",
              "      <td>0.0</td>\n",
              "      <td>1304.0</td>\n",
              "      <td>NaN</td>\n",
              "      <td>['LongCovid']</td>\n",
              "      <td>1</td>\n",
              "      <td>0</td>\n",
              "      <td>mild</td>\n",
              "    </tr>\n",
              "    <tr>\n",
              "      <th>1</th>\n",
              "      <td>2022-12-31 23:38:08+00:00</td>\n",
              "      <td>elusivechantues</td>\n",
              "      <td>This year I \\n-survived 6 months &amp;amp; countin...</td>\n",
              "      <td>2.0</td>\n",
              "      <td>0.0</td>\n",
              "      <td>0.0</td>\n",
              "      <td>89.0</td>\n",
              "      <td>NaN</td>\n",
              "      <td>['LongCovid']</td>\n",
              "      <td>1</td>\n",
              "      <td>0</td>\n",
              "      <td>mild</td>\n",
              "    </tr>\n",
              "    <tr>\n",
              "      <th>2</th>\n",
              "      <td>2022-12-31 22:57:50+00:00</td>\n",
              "      <td>loscharlos</td>\n",
              "      <td>Ok these were my favorite shows I watched in 2...</td>\n",
              "      <td>148.0</td>\n",
              "      <td>12.0</td>\n",
              "      <td>36.0</td>\n",
              "      <td>18852.0</td>\n",
              "      <td>NaN</td>\n",
              "      <td>['LongCovid']</td>\n",
              "      <td>1</td>\n",
              "      <td>0</td>\n",
              "      <td>mild</td>\n",
              "    </tr>\n",
              "    <tr>\n",
              "      <th>3</th>\n",
              "      <td>2022-12-31 22:57:35+00:00</td>\n",
              "      <td>pegsatthemovies</td>\n",
              "      <td>Wish today was more celebratory for me. 2yrs o...</td>\n",
              "      <td>3.0</td>\n",
              "      <td>0.0</td>\n",
              "      <td>0.0</td>\n",
              "      <td>196.0</td>\n",
              "      <td>NaN</td>\n",
              "      <td>['LongCovid']</td>\n",
              "      <td>1</td>\n",
              "      <td>0</td>\n",
              "      <td>moderate</td>\n",
              "    </tr>\n",
              "    <tr>\n",
              "      <th>4</th>\n",
              "      <td>2022-12-31 22:50:29+00:00</td>\n",
              "      <td>Peggles12</td>\n",
              "      <td>No celebrating today as two yrs ago at 7:30pm ...</td>\n",
              "      <td>584.0</td>\n",
              "      <td>66.0</td>\n",
              "      <td>27.0</td>\n",
              "      <td>22340.0</td>\n",
              "      <td>NaN</td>\n",
              "      <td>['LongCovid']</td>\n",
              "      <td>1</td>\n",
              "      <td>0</td>\n",
              "      <td>moderate</td>\n",
              "    </tr>\n",
              "    <tr>\n",
              "      <th>...</th>\n",
              "      <td>...</td>\n",
              "      <td>...</td>\n",
              "      <td>...</td>\n",
              "      <td>...</td>\n",
              "      <td>...</td>\n",
              "      <td>...</td>\n",
              "      <td>...</td>\n",
              "      <td>...</td>\n",
              "      <td>...</td>\n",
              "      <td>...</td>\n",
              "      <td>...</td>\n",
              "      <td>...</td>\n",
              "    </tr>\n",
              "    <tr>\n",
              "      <th>38711</th>\n",
              "      <td>2020-08-13 13:42:42+00:00</td>\n",
              "      <td>lellielesley</td>\n",
              "      <td>@lmarsh77291701 Yes, that's the assumption. I ...</td>\n",
              "      <td>0.0</td>\n",
              "      <td>0.0</td>\n",
              "      <td>1.0</td>\n",
              "      <td>NaN</td>\n",
              "      <td>NaN</td>\n",
              "      <td>['covid19', 'LongCovid']</td>\n",
              "      <td>1</td>\n",
              "      <td>0</td>\n",
              "      <td>severe</td>\n",
              "    </tr>\n",
              "    <tr>\n",
              "      <th>38712</th>\n",
              "      <td>2020-08-13 09:25:01+00:00</td>\n",
              "      <td>ClaireC73758037</td>\n",
              "      <td>We've just completed a mile walk, bit of a uph...</td>\n",
              "      <td>1.0</td>\n",
              "      <td>0.0</td>\n",
              "      <td>0.0</td>\n",
              "      <td>NaN</td>\n",
              "      <td>NaN</td>\n",
              "      <td>['longcovid', 'covidrecovery', 'longhaulers']</td>\n",
              "      <td>1</td>\n",
              "      <td>0</td>\n",
              "      <td>severe</td>\n",
              "    </tr>\n",
              "    <tr>\n",
              "      <th>38713</th>\n",
              "      <td>2020-08-13 00:31:57+00:00</td>\n",
              "      <td>Matzuma_Li</td>\n",
              "      <td>#Covid19 #LongHauler here. BotH my husband &amp;am...</td>\n",
              "      <td>1.0</td>\n",
              "      <td>0.0</td>\n",
              "      <td>1.0</td>\n",
              "      <td>NaN</td>\n",
              "      <td>NaN</td>\n",
              "      <td>['Covid19', 'LongHauler', 'LongCovid']</td>\n",
              "      <td>1</td>\n",
              "      <td>0</td>\n",
              "      <td>severe</td>\n",
              "    </tr>\n",
              "    <tr>\n",
              "      <th>38714</th>\n",
              "      <td>2020-08-12 21:19:42+00:00</td>\n",
              "      <td>amymitchellart</td>\n",
              "      <td>@veryvirology Both masks and medication. Preve...</td>\n",
              "      <td>3.0</td>\n",
              "      <td>0.0</td>\n",
              "      <td>2.0</td>\n",
              "      <td>NaN</td>\n",
              "      <td>NaN</td>\n",
              "      <td>['LongCovid']</td>\n",
              "      <td>1</td>\n",
              "      <td>0</td>\n",
              "      <td>severe</td>\n",
              "    </tr>\n",
              "    <tr>\n",
              "      <th>38715</th>\n",
              "      <td>2020-08-12 20:24:50+00:00</td>\n",
              "      <td>NikkiClints</td>\n",
              "      <td>@AlStewartOBE Hear hear. My son was bedridden ...</td>\n",
              "      <td>1.0</td>\n",
              "      <td>0.0</td>\n",
              "      <td>0.0</td>\n",
              "      <td>NaN</td>\n",
              "      <td>NaN</td>\n",
              "      <td>['ME', 'Longcovid']</td>\n",
              "      <td>1</td>\n",
              "      <td>0</td>\n",
              "      <td>severe</td>\n",
              "    </tr>\n",
              "  </tbody>\n",
              "</table>\n",
              "<p>38716 rows × 12 columns</p>\n",
              "</div>\n",
              "    <div class=\"colab-df-buttons\">\n",
              "\n",
              "  <div class=\"colab-df-container\">\n",
              "    <button class=\"colab-df-convert\" onclick=\"convertToInteractive('df-1b428f21-8e48-4194-9643-1131c82a9d5e')\"\n",
              "            title=\"Convert this dataframe to an interactive table.\"\n",
              "            style=\"display:none;\">\n",
              "\n",
              "  <svg xmlns=\"http://www.w3.org/2000/svg\" height=\"24px\" viewBox=\"0 -960 960 960\">\n",
              "    <path d=\"M120-120v-720h720v720H120Zm60-500h600v-160H180v160Zm220 220h160v-160H400v160Zm0 220h160v-160H400v160ZM180-400h160v-160H180v160Zm440 0h160v-160H620v160ZM180-180h160v-160H180v160Zm440 0h160v-160H620v160Z\"/>\n",
              "  </svg>\n",
              "    </button>\n",
              "\n",
              "  <style>\n",
              "    .colab-df-container {\n",
              "      display:flex;\n",
              "      gap: 12px;\n",
              "    }\n",
              "\n",
              "    .colab-df-convert {\n",
              "      background-color: #E8F0FE;\n",
              "      border: none;\n",
              "      border-radius: 50%;\n",
              "      cursor: pointer;\n",
              "      display: none;\n",
              "      fill: #1967D2;\n",
              "      height: 32px;\n",
              "      padding: 0 0 0 0;\n",
              "      width: 32px;\n",
              "    }\n",
              "\n",
              "    .colab-df-convert:hover {\n",
              "      background-color: #E2EBFA;\n",
              "      box-shadow: 0px 1px 2px rgba(60, 64, 67, 0.3), 0px 1px 3px 1px rgba(60, 64, 67, 0.15);\n",
              "      fill: #174EA6;\n",
              "    }\n",
              "\n",
              "    .colab-df-buttons div {\n",
              "      margin-bottom: 4px;\n",
              "    }\n",
              "\n",
              "    [theme=dark] .colab-df-convert {\n",
              "      background-color: #3B4455;\n",
              "      fill: #D2E3FC;\n",
              "    }\n",
              "\n",
              "    [theme=dark] .colab-df-convert:hover {\n",
              "      background-color: #434B5C;\n",
              "      box-shadow: 0px 1px 3px 1px rgba(0, 0, 0, 0.15);\n",
              "      filter: drop-shadow(0px 1px 2px rgba(0, 0, 0, 0.3));\n",
              "      fill: #FFFFFF;\n",
              "    }\n",
              "  </style>\n",
              "\n",
              "    <script>\n",
              "      const buttonEl =\n",
              "        document.querySelector('#df-1b428f21-8e48-4194-9643-1131c82a9d5e button.colab-df-convert');\n",
              "      buttonEl.style.display =\n",
              "        google.colab.kernel.accessAllowed ? 'block' : 'none';\n",
              "\n",
              "      async function convertToInteractive(key) {\n",
              "        const element = document.querySelector('#df-1b428f21-8e48-4194-9643-1131c82a9d5e');\n",
              "        const dataTable =\n",
              "          await google.colab.kernel.invokeFunction('convertToInteractive',\n",
              "                                                    [key], {});\n",
              "        if (!dataTable) return;\n",
              "\n",
              "        const docLinkHtml = 'Like what you see? Visit the ' +\n",
              "          '<a target=\"_blank\" href=https://colab.research.google.com/notebooks/data_table.ipynb>data table notebook</a>'\n",
              "          + ' to learn more about interactive tables.';\n",
              "        element.innerHTML = '';\n",
              "        dataTable['output_type'] = 'display_data';\n",
              "        await google.colab.output.renderOutput(dataTable, element);\n",
              "        const docLink = document.createElement('div');\n",
              "        docLink.innerHTML = docLinkHtml;\n",
              "        element.appendChild(docLink);\n",
              "      }\n",
              "    </script>\n",
              "  </div>\n",
              "\n",
              "\n",
              "<div id=\"df-396ee4ef-3f9d-4c4a-9365-5307e09c05ae\">\n",
              "  <button class=\"colab-df-quickchart\" onclick=\"quickchart('df-396ee4ef-3f9d-4c4a-9365-5307e09c05ae')\"\n",
              "            title=\"Suggest charts.\"\n",
              "            style=\"display:none;\">\n",
              "\n",
              "<svg xmlns=\"http://www.w3.org/2000/svg\" height=\"24px\"viewBox=\"0 0 24 24\"\n",
              "     width=\"24px\">\n",
              "    <g>\n",
              "        <path d=\"M19 3H5c-1.1 0-2 .9-2 2v14c0 1.1.9 2 2 2h14c1.1 0 2-.9 2-2V5c0-1.1-.9-2-2-2zM9 17H7v-7h2v7zm4 0h-2V7h2v10zm4 0h-2v-4h2v4z\"/>\n",
              "    </g>\n",
              "</svg>\n",
              "  </button>\n",
              "\n",
              "<style>\n",
              "  .colab-df-quickchart {\n",
              "    background-color: #E8F0FE;\n",
              "    border: none;\n",
              "    border-radius: 50%;\n",
              "    cursor: pointer;\n",
              "    display: none;\n",
              "    fill: #1967D2;\n",
              "    height: 32px;\n",
              "    padding: 0 0 0 0;\n",
              "    width: 32px;\n",
              "  }\n",
              "\n",
              "  .colab-df-quickchart:hover {\n",
              "    background-color: #E2EBFA;\n",
              "    box-shadow: 0px 1px 2px rgba(60, 64, 67, 0.3), 0px 1px 3px 1px rgba(60, 64, 67, 0.15);\n",
              "    fill: #174EA6;\n",
              "  }\n",
              "\n",
              "  [theme=dark] .colab-df-quickchart {\n",
              "    background-color: #3B4455;\n",
              "    fill: #D2E3FC;\n",
              "  }\n",
              "\n",
              "  [theme=dark] .colab-df-quickchart:hover {\n",
              "    background-color: #434B5C;\n",
              "    box-shadow: 0px 1px 3px 1px rgba(0, 0, 0, 0.15);\n",
              "    filter: drop-shadow(0px 1px 2px rgba(0, 0, 0, 0.3));\n",
              "    fill: #FFFFFF;\n",
              "  }\n",
              "</style>\n",
              "\n",
              "  <script>\n",
              "    async function quickchart(key) {\n",
              "      const charts = await google.colab.kernel.invokeFunction(\n",
              "          'suggestCharts', [key], {});\n",
              "    }\n",
              "    (() => {\n",
              "      let quickchartButtonEl =\n",
              "        document.querySelector('#df-396ee4ef-3f9d-4c4a-9365-5307e09c05ae button');\n",
              "      quickchartButtonEl.style.display =\n",
              "        google.colab.kernel.accessAllowed ? 'block' : 'none';\n",
              "    })();\n",
              "  </script>\n",
              "</div>\n",
              "    </div>\n",
              "  </div>\n"
            ]
          },
          "metadata": {},
          "execution_count": 3
        }
      ]
    },
    {
      "cell_type": "code",
      "source": [],
      "metadata": {
        "id": "39laefFn_0MV"
      },
      "execution_count": 3,
      "outputs": []
    },
    {
      "cell_type": "code",
      "source": [],
      "metadata": {
        "id": "Dg4JwHd5AGN9"
      },
      "execution_count": 3,
      "outputs": []
    },
    {
      "cell_type": "code",
      "source": [
        "print(\"number of tweets: {}\".format(len(df)))"
      ],
      "metadata": {
        "id": "-cy-F07TAgb8",
        "colab": {
          "base_uri": "https://localhost:8080/"
        },
        "outputId": "122927b6-a7a3-41ff-b10e-6b7119398f4a"
      },
      "execution_count": 4,
      "outputs": [
        {
          "output_type": "stream",
          "name": "stdout",
          "text": [
            "number of tweets: 38716\n"
          ]
        }
      ]
    },
    {
      "cell_type": "code",
      "source": [],
      "metadata": {
        "id": "_pGB9-_p8sNh"
      },
      "execution_count": 4,
      "outputs": []
    },
    {
      "cell_type": "markdown",
      "source": [
        "**pyplot помага да се разбере и да се претстави како твитовите се дистрибуираат во датасетот**\n",
        "\n",
        "*   List item\n",
        "*   List item\n",
        "\n"
      ],
      "metadata": {
        "id": "3MhLyoHL8oWH"
      }
    },
    {
      "cell_type": "code",
      "source": [
        "import matplotlib.pyplot as plt\n",
        "\n",
        "sentiment_count = df[\"label\"].value_counts()\n",
        "plt.pie(sentiment_count, labels=sentiment_count.index, autopct='%1.1f%%', shadow=True, startangle=140)\n",
        "plt.show()\n"
      ],
      "metadata": {
        "id": "a_eNyRKNAkWp",
        "colab": {
          "base_uri": "https://localhost:8080/",
          "height": 406
        },
        "outputId": "7b9e20a4-aef0-421c-bcc1-a10a0e575997"
      },
      "execution_count": 5,
      "outputs": [
        {
          "output_type": "display_data",
          "data": {
            "text/plain": [
              "<Figure size 640x480 with 1 Axes>"
            ],
            "image/png": "[encoded data removed]"
          },
          "metadata": {}
        }
      ]
    },
    {
      "cell_type": "markdown",
      "source": [
        "Датасетот е релативно добро распределен."
      ],
      "metadata": {
        "id": "xXzXd-YfRu4-"
      }
    },
    {
      "cell_type": "code",
      "source": [
        "print(\"Number of mild tweets: {}\".format(df[df['label']==\"mild\"].count()[0]))"
      ],
      "metadata": {
        "id": "GTbwRaqFA4LW",
        "colab": {
          "base_uri": "https://localhost:8080/"
        },
        "outputId": "6d5a69d3-3edd-42d9-c45f-403f83f965bf"
      },
      "execution_count": 6,
      "outputs": [
        {
          "output_type": "stream",
          "name": "stdout",
          "text": [
            "Number of mild tweets: 3463\n"
          ]
        }
      ]
    },
    {
      "cell_type": "code",
      "source": [
        "print(\"Number of severe tweets: {}\".format(df[df['label']==\"severe\"].count()[0]))"
      ],
      "metadata": {
        "id": "mwgugl2bRq8k",
        "colab": {
          "base_uri": "https://localhost:8080/"
        },
        "outputId": "a3057634-a9f0-44fb-ebcf-de7fd3a98c4f"
      },
      "execution_count": 7,
      "outputs": [
        {
          "output_type": "stream",
          "name": "stdout",
          "text": [
            "Number of severe tweets: 20000\n"
          ]
        }
      ]
    },
    {
      "cell_type": "code",
      "source": [
        "print(\"Number of moderate tweets: {}\".format(df[df['label']==\"moderate\"].count()[0]))"
      ],
      "metadata": {
        "id": "tl6zN2gPRtJJ",
        "colab": {
          "base_uri": "https://localhost:8080/"
        },
        "outputId": "67a24350-14ea-4572-c60d-062cbd02139b"
      },
      "execution_count": 8,
      "outputs": [
        {
          "output_type": "stream",
          "name": "stdout",
          "text": [
            "Number of moderate tweets: 15253\n"
          ]
        }
      ]
    },
    {
      "cell_type": "code",
      "source": [
        "import re"
      ],
      "metadata": {
        "id": "JkFLnn8dVCeR"
      },
      "execution_count": 9,
      "outputs": []
    },
    {
      "cell_type": "code",
      "source": [
        "def clean_tweet(tweet, default_replace=\"\"):\n",
        "  tweet = re.sub('RT\\s+', default_replace, tweet)\n",
        "  return tweet"
      ],
      "metadata": {
        "id": "kyow-dEPR5HM"
      },
      "execution_count": 10,
      "outputs": []
    },
    {
      "cell_type": "code",
      "source": [
        "def clean_user(tweet, default_replace=\"user\"):\n",
        "  tweet = re.sub('\\B@\\w+', default_replace, tweet)\n",
        "  return tweet"
      ],
      "metadata": {
        "id": "edJLBiYOSetq"
      },
      "execution_count": 11,
      "outputs": []
    },
    {
      "cell_type": "code",
      "source": [
        "def clean_url(tweet, default_replace=\"\"):\n",
        "  tweet = re.sub('(http|https):\\/\\/\\S+',default_replace, tweet )\n",
        "  return tweet"
      ],
      "metadata": {
        "id": "WgLReuxxSxHE"
      },
      "execution_count": 12,
      "outputs": []
    },
    {
      "cell_type": "code",
      "source": [
        "def clean_hashtag(tweet, default_replace=\"\"):\n",
        "  tweet = re.sub('#+',default_replace, tweet)\n",
        "  return tweet"
      ],
      "metadata": {
        "id": "LFuvvitrS0dh"
      },
      "execution_count": 13,
      "outputs": []
    },
    {
      "cell_type": "code",
      "source": [
        "def to_lowercase(tweet):\n",
        "  tweet = tweet.lower()\n",
        "  return tweet"
      ],
      "metadata": {
        "id": "bpIgpLgmS587"
      },
      "execution_count": 14,
      "outputs": []
    },
    {
      "cell_type": "code",
      "source": [
        "def word_repetition(tweet):\n",
        "  tweet = re.sub(r'(.)\\1+',r'\\1\\1',tweet)\n",
        "  return tweet"
      ],
      "metadata": {
        "id": "OnRK_CmsS9Aa"
      },
      "execution_count": 15,
      "outputs": []
    },
    {
      "cell_type": "code",
      "source": [
        "pip install contractions"
      ],
      "metadata": {
        "id": "C6pJRx3LTJGD",
        "colab": {
          "base_uri": "https://localhost:8080/"
        },
        "outputId": "c9f068b2-ec21-4628-d6c1-619e657fe623"
      },
      "execution_count": 16,
      "outputs": [
        {
          "output_type": "stream",
          "name": "stdout",
          "text": [
            "Collecting contractions\n",
            "  Downloading contractions-0.1.73-py2.py3-none-any.whl (8.7 kB)\n",
            "Collecting textsearch>=0.0.21 (from contractions)\n",
            "  Downloading textsearch-0.0.24-py2.py3-none-any.whl (7.6 kB)\n",
            "Collecting anyascii (from textsearch>=0.0.21->contractions)\n",
            "  Downloading anyascii-0.3.2-py3-none-any.whl (289 kB)\n",
            "\u001b[2K     \u001b[90m━━━━━━━━━━━━━━━━━━━━━━━━━━━━━━━━━━━━━━━\u001b[0m \u001b[32m289.9/289.9 kB\u001b[0m \u001b[31m6.6 MB/s\u001b[0m eta \u001b[36m0:00:00\u001b[0m\n",
            "\u001b[?25hCollecting pyahocorasick (from textsearch>=0.0.21->contractions)\n",
            "  Downloading pyahocorasick-2.0.0-cp310-cp310-manylinux_2_5_x86_64.manylinux1_x86_64.manylinux_2_12_x86_64.manylinux2010_x86_64.whl (110 kB)\n",
            "\u001b[2K     \u001b[90m━━━━━━━━━━━━━━━━━━━━━━━━━━━━━━━━━━━━━━\u001b[0m \u001b[32m110.8/110.8 kB\u001b[0m \u001b[31m13.5 MB/s\u001b[0m eta \u001b[36m0:00:00\u001b[0m\n",
            "\u001b[?25hInstalling collected packages: pyahocorasick, anyascii, textsearch, contractions\n",
            "Successfully installed anyascii-0.3.2 contractions-0.1.73 pyahocorasick-2.0.0 textsearch-0.0.24\n"
          ]
        }
      ]
    },
    {
      "cell_type": "code",
      "source": [
        "import contractions\n",
        "\n",
        "def fix_contractions(tweet):\n",
        "  for k,v in contractions.contractions_dict.items():\n",
        "    tweet = tweet.replace(k,v)\n",
        "    return tweet"
      ],
      "metadata": {
        "id": "b7tKI15xTUMe"
      },
      "execution_count": 17,
      "outputs": []
    },
    {
      "cell_type": "code",
      "source": [
        "#\n",
        "tweet = \"brother i like this @aleksandar #cool\"\n",
        "\n",
        "print(\"Processed: {}\".format(clean_user(tweet)))"
      ],
      "metadata": {
        "id": "vuLvtMD5UOH7",
        "colab": {
          "base_uri": "https://localhost:8080/"
        },
        "outputId": "0103763f-0520-48e7-e36c-39ea3f31ddab"
      },
      "execution_count": 18,
      "outputs": [
        {
          "output_type": "stream",
          "name": "stdout",
          "text": [
            "Processed: brother i like this user #cool\n"
          ]
        }
      ]
    },
    {
      "cell_type": "code",
      "source": [
        "pip install nltk"
      ],
      "metadata": {
        "id": "oGnhyjVWVI_9",
        "colab": {
          "base_uri": "https://localhost:8080/"
        },
        "outputId": "bc5523c4-688e-43d6-9d2b-dcb2744e1faf"
      },
      "execution_count": 19,
      "outputs": [
        {
          "output_type": "stream",
          "name": "stdout",
          "text": [
            "Requirement already satisfied: nltk in /usr/local/lib/python3.10/dist-packages (3.8.1)\n",
            "Requirement already satisfied: click in /usr/local/lib/python3.10/dist-packages (from nltk) (8.1.7)\n",
            "Requirement already satisfied: joblib in /usr/local/lib/python3.10/dist-packages (from nltk) (1.3.2)\n",
            "Requirement already satisfied: regex>=2021.8.3 in /usr/local/lib/python3.10/dist-packages (from nltk) (2023.6.3)\n",
            "Requirement already satisfied: tqdm in /usr/local/lib/python3.10/dist-packages (from nltk) (4.66.1)\n"
          ]
        }
      ]
    },
    {
      "cell_type": "code",
      "source": [
        "import nltk\n",
        "from nltk.tokenize import word_tokenize\n",
        "nltk.download('punkt')"
      ],
      "metadata": {
        "id": "eaf4bj-1V5YB",
        "colab": {
          "base_uri": "https://localhost:8080/"
        },
        "outputId": "e5d81eed-c895-4b94-ae0b-f2aa0833506e"
      },
      "execution_count": 20,
      "outputs": [
        {
          "output_type": "stream",
          "name": "stderr",
          "text": [
            "[nltk_data] Downloading package punkt to /root/nltk_data...\n",
            "[nltk_data]   Unzipping tokenizers/punkt.zip.\n"
          ]
        },
        {
          "output_type": "execute_result",
          "data": {
            "text/plain": [
              "True"
            ]
          },
          "metadata": {},
          "execution_count": 20
        }
      ]
    },
    {
      "cell_type": "code",
      "source": [
        "def tokenize(tweet):\n",
        "  tokens = word_tokenize(tweet)\n",
        "  return tokens"
      ],
      "metadata": {
        "id": "jEN4ylg4W3UN"
      },
      "execution_count": 21,
      "outputs": []
    },
    {
      "cell_type": "code",
      "source": [
        "tweet = \"brother i like this @aleksandar #cool\"\n",
        "print(\"Tweet tokens: {}\".format(tokenize(tweet)))"
      ],
      "metadata": {
        "id": "KoIApG_VXDuQ",
        "colab": {
          "base_uri": "https://localhost:8080/"
        },
        "outputId": "47cce911-b394-4384-9389-289cd834572f"
      },
      "execution_count": 22,
      "outputs": [
        {
          "output_type": "stream",
          "name": "stdout",
          "text": [
            "Tweet tokens: ['brother', 'i', 'like', 'this', '@', 'aleksandar', '#', 'cool']\n"
          ]
        }
      ]
    },
    {
      "cell_type": "code",
      "source": [
        "from nltk.stem import WordNetLemmatizer\n",
        "from nltk.corpus import wordnet\n",
        "nltk.download('wordnet')"
      ],
      "metadata": {
        "id": "gGodpaaGYncR",
        "colab": {
          "base_uri": "https://localhost:8080/"
        },
        "outputId": "4f729504-66b1-438e-aab7-d37790629d79"
      },
      "execution_count": 23,
      "outputs": [
        {
          "output_type": "stream",
          "name": "stderr",
          "text": [
            "[nltk_data] Downloading package wordnet to /root/nltk_data...\n"
          ]
        },
        {
          "output_type": "execute_result",
          "data": {
            "text/plain": [
              "True"
            ]
          },
          "metadata": {},
          "execution_count": 23
        }
      ]
    },
    {
      "cell_type": "code",
      "source": [
        "tokens = [\"international\",\"companies\",\"had\",\"interns\"]\n"
      ],
      "metadata": {
        "id": "aHIiLJKkXIvv"
      },
      "execution_count": 24,
      "outputs": []
    },
    {
      "cell_type": "code",
      "source": [
        "word_type = {\"international\":wordnet.ADJ,\n",
        "             \"companies\":wordnet.NOUN,\n",
        "             \"had\":wordnet.VERB,\n",
        "             \"interns\":wordnet.NOUN\n",
        "}"
      ],
      "metadata": {
        "id": "eRyNa6ngYlvA"
      },
      "execution_count": 25,
      "outputs": []
    },
    {
      "cell_type": "code",
      "source": [
        "lemmatizer = WordNetLemmatizer()"
      ],
      "metadata": {
        "id": "Gryl0lDdYurH"
      },
      "execution_count": 26,
      "outputs": []
    },
    {
      "cell_type": "code",
      "source": [
        "def lemmatize_tokens(tokens,word_type,lemmatizer):\n",
        "  token_list=[]\n",
        "  for token in tokens:\n",
        "    token_list.append(lemmatizer.lemmatize(token,word_type[token]))\n",
        "\n",
        "\n",
        "  return token_list"
      ],
      "metadata": {
        "id": "3T584F8KYwqo"
      },
      "execution_count": 27,
      "outputs": []
    },
    {
      "cell_type": "code",
      "source": [
        "print(\"Tweet lemma: {}\".format(lemmatize_tokens(tokens,word_type,lemmatizer)))"
      ],
      "metadata": {
        "id": "GtUbux7zYgTI",
        "colab": {
          "base_uri": "https://localhost:8080/"
        },
        "outputId": "4eeb6780-e6d4-4cff-8c3a-b82552daec5a"
      },
      "execution_count": 28,
      "outputs": [
        {
          "output_type": "stream",
          "name": "stdout",
          "text": [
            "Tweet lemma: ['international', 'company', 'have', 'intern']\n"
          ]
        }
      ]
    },
    {
      "cell_type": "code",
      "source": [
        "from nltk.stem import PorterStemmer\n",
        "from nltk.stem import LancasterStemmer\n",
        "from nltk.stem.snowball import SnowballStemmer\n",
        "\n"
      ],
      "metadata": {
        "id": "Tz3wjl5NeE6w"
      },
      "execution_count": 29,
      "outputs": []
    },
    {
      "cell_type": "code",
      "source": [
        "porter_stemmer = PorterStemmer()\n",
        "lancaster_stemmer = LancasterStemmer()\n",
        "snoball_stemmer = SnowballStemmer('english')"
      ],
      "metadata": {
        "id": "7E2bbTYpeFli"
      },
      "execution_count": 30,
      "outputs": []
    },
    {
      "cell_type": "code",
      "source": [
        "def stem_tokens(tokens,stemmer):\n",
        "  token_list = []\n",
        "  for token in tokens:\n",
        "    token_list.append(stemmer.stem(token))\n",
        "  return token_list"
      ],
      "metadata": {
        "id": "80m5Ft9SeG4o"
      },
      "execution_count": 31,
      "outputs": []
    },
    {
      "cell_type": "code",
      "source": [
        "def func_tweet(tweet,verbose=False):\n",
        "  if verbose: print(\"Initial tweet: {}\".format(tweet))\n",
        "  tweet = clean_tweet(tweet)\n",
        "  tweet = clean_user(tweet)\n",
        "  tweet = clean_url(tweet)\n",
        "  tweet = clean_hashtag(tweet)\n",
        "\n",
        "\n",
        "  if verbose: print(\"Post Twitter processing tweet: {}\".format(tweet))\n",
        "  tweet = to_lowercase(tweet)\n",
        "  tweet = fix_contractions(tweet)\n",
        "\n",
        "  tweet = word_repetition(tweet)\n",
        "\n",
        "\n",
        "\n",
        "\n",
        "  if verbose: print(\"Post Twitter processing tweet: {}\".format(tweet))\n",
        " #Tokenization & Stemming\n",
        "\n",
        "  tokens = tokenize(tweet)\n",
        "  stemmer = SnowballStemmer('english')\n",
        "  stem = stem_tokens(tokens,stemmer)\n",
        "\n",
        "\n",
        "\n",
        "\n",
        "  return stem\n"
      ],
      "metadata": {
        "id": "QWYO5GHgY2ZG"
      },
      "execution_count": 32,
      "outputs": []
    },
    {
      "cell_type": "code",
      "source": [
        "pip install -U scikit-learn\n"
      ],
      "metadata": {
        "id": "aQ0IsxrbZgyn",
        "colab": {
          "base_uri": "https://localhost:8080/",
          "height": 356
        },
        "outputId": "73f45339-86e3-455a-9b9b-bcfb01044f7e"
      },
      "execution_count": 33,
      "outputs": [
        {
          "output_type": "stream",
          "name": "stdout",
          "text": [
            "Requirement already satisfied: scikit-learn in /usr/local/lib/python3.10/dist-packages (1.2.2)\n",
            "Collecting scikit-learn\n",
            "  Downloading scikit_learn-1.3.0-cp310-cp310-manylinux_2_17_x86_64.manylinux2014_x86_64.whl (10.8 MB)\n",
            "\u001b[2K     \u001b[90m━━━━━━━━━━━━━━━━━━━━━━━━━━━━━━━━━━━━━━━━\u001b[0m \u001b[32m10.8/10.8 MB\u001b[0m \u001b[31m84.8 MB/s\u001b[0m eta \u001b[36m0:00:00\u001b[0m\n",
            "\u001b[?25hRequirement already satisfied: numpy>=1.17.3 in /usr/local/lib/python3.10/dist-packages (from scikit-learn) (1.23.5)\n",
            "Requirement already satisfied: scipy>=1.5.0 in /usr/local/lib/python3.10/dist-packages (from scikit-learn) (1.10.1)\n",
            "Requirement already satisfied: joblib>=1.1.1 in /usr/local/lib/python3.10/dist-packages (from scikit-learn) (1.3.2)\n",
            "Requirement already satisfied: threadpoolctl>=2.0.0 in /usr/local/lib/python3.10/dist-packages (from scikit-learn) (3.2.0)\n",
            "Installing collected packages: scikit-learn\n",
            "  Attempting uninstall: scikit-learn\n",
            "    Found existing installation: scikit-learn 1.2.2\n",
            "    Uninstalling scikit-learn-1.2.2:\n",
            "      Successfully uninstalled scikit-learn-1.2.2\n",
            "Successfully installed scikit-learn-1.3.0\n"
          ]
        },
        {
          "output_type": "display_data",
          "data": {
            "application/vnd.colab-display-data+json": {
              "pip_warning": {
                "packages": [
                  "sklearn"
                ]
              }
            }
          },
          "metadata": {}
        }
      ]
    },
    {
      "cell_type": "code",
      "source": [
        "df.head()\n"
      ],
      "metadata": {
        "id": "x4XLE-f3c9oX",
        "colab": {
          "base_uri": "https://localhost:8080/",
          "height": 293
        },
        "outputId": "f3254c87-21a7-4351-a98f-7e723ffac87a"
      },
      "execution_count": 34,
      "outputs": [
        {
          "output_type": "execute_result",
          "data": {
            "text/plain": [
              "                        Date             User  \\\n",
              "0  2022-12-31 23:46:48+00:00    TheExtraFiles   \n",
              "1  2022-12-31 23:38:08+00:00  elusivechantues   \n",
              "2  2022-12-31 22:57:50+00:00       loscharlos   \n",
              "3  2022-12-31 22:57:35+00:00  pegsatthemovies   \n",
              "4  2022-12-31 22:50:29+00:00        Peggles12   \n",
              "\n",
              "                                                text  LikeCount  RetweetCount  \\\n",
              "0  SO Thankful for new friendships I've made here...       25.0           4.0   \n",
              "1  This year I \\n-survived 6 months &amp; countin...        2.0           0.0   \n",
              "2  Ok these were my favorite shows I watched in 2...      148.0          12.0   \n",
              "3  Wish today was more celebratory for me. 2yrs o...        3.0           0.0   \n",
              "4  No celebrating today as two yrs ago at 7:30pm ...      584.0          66.0   \n",
              "\n",
              "   ReplyCount  ViewCount Place       Hashtags  PCS_patient  MentalHealth  \\\n",
              "0         0.0     1304.0   NaN  ['LongCovid']            1             0   \n",
              "1         0.0       89.0   NaN  ['LongCovid']            1             0   \n",
              "2        36.0    18852.0   NaN  ['LongCovid']            1             0   \n",
              "3         0.0      196.0   NaN  ['LongCovid']            1             0   \n",
              "4        27.0    22340.0   NaN  ['LongCovid']            1             0   \n",
              "\n",
              "      label  \n",
              "0      mild  \n",
              "1      mild  \n",
              "2      mild  \n",
              "3  moderate  \n",
              "4  moderate  "
            ],
            "text/html": [
              "\n",
              "  <div id=\"df-49822018-4345-4dee-a23d-98cb8d3de34a\" class=\"colab-df-container\">\n",
              "    <div>\n",
              "<style scoped>\n",
              "    .dataframe tbody tr th:only-of-type {\n",
              "        vertical-align: middle;\n",
              "    }\n",
              "\n",
              "    .dataframe tbody tr th {\n",
              "        vertical-align: top;\n",
              "    }\n",
              "\n",
              "    .dataframe thead th {\n",
              "        text-align: right;\n",
              "    }\n",
              "</style>\n",
              "<table border=\"1\" class=\"dataframe\">\n",
              "  <thead>\n",
              "    <tr style=\"text-align: right;\">\n",
              "      <th></th>\n",
              "      <th>Date</th>\n",
              "      <th>User</th>\n",
              "      <th>text</th>\n",
              "      <th>LikeCount</th>\n",
              "      <th>RetweetCount</th>\n",
              "      <th>ReplyCount</th>\n",
              "      <th>ViewCount</th>\n",
              "      <th>Place</th>\n",
              "      <th>Hashtags</th>\n",
              "      <th>PCS_patient</th>\n",
              "      <th>MentalHealth</th>\n",
              "      <th>label</th>\n",
              "    </tr>\n",
              "  </thead>\n",
              "  <tbody>\n",
              "    <tr>\n",
              "      <th>0</th>\n",
              "      <td>2022-12-31 23:46:48+00:00</td>\n",
              "      <td>TheExtraFiles</td>\n",
              "      <td>SO Thankful for new friendships I've made here...</td>\n",
              "      <td>25.0</td>\n",
              "      <td>4.0</td>\n",
              "      <td>0.0</td>\n",
              "      <td>1304.0</td>\n",
              "      <td>NaN</td>\n",
              "      <td>['LongCovid']</td>\n",
              "      <td>1</td>\n",
              "      <td>0</td>\n",
              "      <td>mild</td>\n",
              "    </tr>\n",
              "    <tr>\n",
              "      <th>1</th>\n",
              "      <td>2022-12-31 23:38:08+00:00</td>\n",
              "      <td>elusivechantues</td>\n",
              "      <td>This year I \\n-survived 6 months &amp;amp; countin...</td>\n",
              "      <td>2.0</td>\n",
              "      <td>0.0</td>\n",
              "      <td>0.0</td>\n",
              "      <td>89.0</td>\n",
              "      <td>NaN</td>\n",
              "      <td>['LongCovid']</td>\n",
              "      <td>1</td>\n",
              "      <td>0</td>\n",
              "      <td>mild</td>\n",
              "    </tr>\n",
              "    <tr>\n",
              "      <th>2</th>\n",
              "      <td>2022-12-31 22:57:50+00:00</td>\n",
              "      <td>loscharlos</td>\n",
              "      <td>Ok these were my favorite shows I watched in 2...</td>\n",
              "      <td>148.0</td>\n",
              "      <td>12.0</td>\n",
              "      <td>36.0</td>\n",
              "      <td>18852.0</td>\n",
              "      <td>NaN</td>\n",
              "      <td>['LongCovid']</td>\n",
              "      <td>1</td>\n",
              "      <td>0</td>\n",
              "      <td>mild</td>\n",
              "    </tr>\n",
              "    <tr>\n",
              "      <th>3</th>\n",
              "      <td>2022-12-31 22:57:35+00:00</td>\n",
              "      <td>pegsatthemovies</td>\n",
              "      <td>Wish today was more celebratory for me. 2yrs o...</td>\n",
              "      <td>3.0</td>\n",
              "      <td>0.0</td>\n",
              "      <td>0.0</td>\n",
              "      <td>196.0</td>\n",
              "      <td>NaN</td>\n",
              "      <td>['LongCovid']</td>\n",
              "      <td>1</td>\n",
              "      <td>0</td>\n",
              "      <td>moderate</td>\n",
              "    </tr>\n",
              "    <tr>\n",
              "      <th>4</th>\n",
              "      <td>2022-12-31 22:50:29+00:00</td>\n",
              "      <td>Peggles12</td>\n",
              "      <td>No celebrating today as two yrs ago at 7:30pm ...</td>\n",
              "      <td>584.0</td>\n",
              "      <td>66.0</td>\n",
              "      <td>27.0</td>\n",
              "      <td>22340.0</td>\n",
              "      <td>NaN</td>\n",
              "      <td>['LongCovid']</td>\n",
              "      <td>1</td>\n",
              "      <td>0</td>\n",
              "      <td>moderate</td>\n",
              "    </tr>\n",
              "  </tbody>\n",
              "</table>\n",
              "</div>\n",
              "    <div class=\"colab-df-buttons\">\n",
              "\n",
              "  <div class=\"colab-df-container\">\n",
              "    <button class=\"colab-df-convert\" onclick=\"convertToInteractive('df-49822018-4345-4dee-a23d-98cb8d3de34a')\"\n",
              "            title=\"Convert this dataframe to an interactive table.\"\n",
              "            style=\"display:none;\">\n",
              "\n",
              "  <svg xmlns=\"http://www.w3.org/2000/svg\" height=\"24px\" viewBox=\"0 -960 960 960\">\n",
              "    <path d=\"M120-120v-720h720v720H120Zm60-500h600v-160H180v160Zm220 220h160v-160H400v160Zm0 220h160v-160H400v160ZM180-400h160v-160H180v160Zm440 0h160v-160H620v160ZM180-180h160v-160H180v160Zm440 0h160v-160H620v160Z\"/>\n",
              "  </svg>\n",
              "    </button>\n",
              "\n",
              "  <style>\n",
              "    .colab-df-container {\n",
              "      display:flex;\n",
              "      gap: 12px;\n",
              "    }\n",
              "\n",
              "    .colab-df-convert {\n",
              "      background-color: #E8F0FE;\n",
              "      border: none;\n",
              "      border-radius: 50%;\n",
              "      cursor: pointer;\n",
              "      display: none;\n",
              "      fill: #1967D2;\n",
              "      height: 32px;\n",
              "      padding: 0 0 0 0;\n",
              "      width: 32px;\n",
              "    }\n",
              "\n",
              "    .colab-df-convert:hover {\n",
              "      background-color: #E2EBFA;\n",
              "      box-shadow: 0px 1px 2px rgba(60, 64, 67, 0.3), 0px 1px 3px 1px rgba(60, 64, 67, 0.15);\n",
              "      fill: #174EA6;\n",
              "    }\n",
              "\n",
              "    .colab-df-buttons div {\n",
              "      margin-bottom: 4px;\n",
              "    }\n",
              "\n",
              "    [theme=dark] .colab-df-convert {\n",
              "      background-color: #3B4455;\n",
              "      fill: #D2E3FC;\n",
              "    }\n",
              "\n",
              "    [theme=dark] .colab-df-convert:hover {\n",
              "      background-color: #434B5C;\n",
              "      box-shadow: 0px 1px 3px 1px rgba(0, 0, 0, 0.15);\n",
              "      filter: drop-shadow(0px 1px 2px rgba(0, 0, 0, 0.3));\n",
              "      fill: #FFFFFF;\n",
              "    }\n",
              "  </style>\n",
              "\n",
              "    <script>\n",
              "      const buttonEl =\n",
              "        document.querySelector('#df-49822018-4345-4dee-a23d-98cb8d3de34a button.colab-df-convert');\n",
              "      buttonEl.style.display =\n",
              "        google.colab.kernel.accessAllowed ? 'block' : 'none';\n",
              "\n",
              "      async function convertToInteractive(key) {\n",
              "        const element = document.querySelector('#df-49822018-4345-4dee-a23d-98cb8d3de34a');\n",
              "        const dataTable =\n",
              "          await google.colab.kernel.invokeFunction('convertToInteractive',\n",
              "                                                    [key], {});\n",
              "        if (!dataTable) return;\n",
              "\n",
              "        const docLinkHtml = 'Like what you see? Visit the ' +\n",
              "          '<a target=\"_blank\" href=https://colab.research.google.com/notebooks/data_table.ipynb>data table notebook</a>'\n",
              "          + ' to learn more about interactive tables.';\n",
              "        element.innerHTML = '';\n",
              "        dataTable['output_type'] = 'display_data';\n",
              "        await google.colab.output.renderOutput(dataTable, element);\n",
              "        const docLink = document.createElement('div');\n",
              "        docLink.innerHTML = docLinkHtml;\n",
              "        element.appendChild(docLink);\n",
              "      }\n",
              "    </script>\n",
              "  </div>\n",
              "\n",
              "\n",
              "<div id=\"df-e14eb5cc-afab-4ca5-a906-541a431f89ea\">\n",
              "  <button class=\"colab-df-quickchart\" onclick=\"quickchart('df-e14eb5cc-afab-4ca5-a906-541a431f89ea')\"\n",
              "            title=\"Suggest charts.\"\n",
              "            style=\"display:none;\">\n",
              "\n",
              "<svg xmlns=\"http://www.w3.org/2000/svg\" height=\"24px\"viewBox=\"0 0 24 24\"\n",
              "     width=\"24px\">\n",
              "    <g>\n",
              "        <path d=\"M19 3H5c-1.1 0-2 .9-2 2v14c0 1.1.9 2 2 2h14c1.1 0 2-.9 2-2V5c0-1.1-.9-2-2-2zM9 17H7v-7h2v7zm4 0h-2V7h2v10zm4 0h-2v-4h2v4z\"/>\n",
              "    </g>\n",
              "</svg>\n",
              "  </button>\n",
              "\n",
              "<style>\n",
              "  .colab-df-quickchart {\n",
              "    background-color: #E8F0FE;\n",
              "    border: none;\n",
              "    border-radius: 50%;\n",
              "    cursor: pointer;\n",
              "    display: none;\n",
              "    fill: #1967D2;\n",
              "    height: 32px;\n",
              "    padding: 0 0 0 0;\n",
              "    width: 32px;\n",
              "  }\n",
              "\n",
              "  .colab-df-quickchart:hover {\n",
              "    background-color: #E2EBFA;\n",
              "    box-shadow: 0px 1px 2px rgba(60, 64, 67, 0.3), 0px 1px 3px 1px rgba(60, 64, 67, 0.15);\n",
              "    fill: #174EA6;\n",
              "  }\n",
              "\n",
              "  [theme=dark] .colab-df-quickchart {\n",
              "    background-color: #3B4455;\n",
              "    fill: #D2E3FC;\n",
              "  }\n",
              "\n",
              "  [theme=dark] .colab-df-quickchart:hover {\n",
              "    background-color: #434B5C;\n",
              "    box-shadow: 0px 1px 3px 1px rgba(0, 0, 0, 0.15);\n",
              "    filter: drop-shadow(0px 1px 2px rgba(0, 0, 0, 0.3));\n",
              "    fill: #FFFFFF;\n",
              "  }\n",
              "</style>\n",
              "\n",
              "  <script>\n",
              "    async function quickchart(key) {\n",
              "      const charts = await google.colab.kernel.invokeFunction(\n",
              "          'suggestCharts', [key], {});\n",
              "    }\n",
              "    (() => {\n",
              "      let quickchartButtonEl =\n",
              "        document.querySelector('#df-e14eb5cc-afab-4ca5-a906-541a431f89ea button');\n",
              "      quickchartButtonEl.style.display =\n",
              "        google.colab.kernel.accessAllowed ? 'block' : 'none';\n",
              "    })();\n",
              "  </script>\n",
              "</div>\n",
              "    </div>\n",
              "  </div>\n"
            ]
          },
          "metadata": {},
          "execution_count": 34
        }
      ]
    },
    {
      "cell_type": "code",
      "source": [],
      "metadata": {
        "id": "u3_NrkVwdpMv"
      },
      "execution_count": 34,
      "outputs": []
    },
    {
      "cell_type": "code",
      "source": [
        "mapping = {\n",
        "    \"mild\":1,\n",
        "    \"moderate\":0,\n",
        "    \"severe\":2\n",
        "\n",
        "}"
      ],
      "metadata": {
        "id": "vhwNCn_3dvM3"
      },
      "execution_count": 35,
      "outputs": []
    },
    {
      "cell_type": "code",
      "source": [
        "df[\"tokens\"] = df[\"text\"].apply(func_tweet)\n",
        "df[\"tweet_sentiment\"] = df[\"label\"].map(mapping)\n",
        "df.head(10)"
      ],
      "metadata": {
        "id": "UgC2bKT5dCXi",
        "colab": {
          "base_uri": "https://localhost:8080/",
          "height": 1000
        },
        "outputId": "175692c6-5c4f-474e-a472-bb8d88342fdf"
      },
      "execution_count": 36,
      "outputs": [
        {
          "output_type": "execute_result",
          "data": {
            "text/plain": [
              "                        Date             User  \\\n",
              "0  2022-12-31 23:46:48+00:00    TheExtraFiles   \n",
              "1  2022-12-31 23:38:08+00:00  elusivechantues   \n",
              "2  2022-12-31 22:57:50+00:00       loscharlos   \n",
              "3  2022-12-31 22:57:35+00:00  pegsatthemovies   \n",
              "4  2022-12-31 22:50:29+00:00        Peggles12   \n",
              "5  2022-12-31 22:24:32+00:00   LongCovidComms   \n",
              "6  2022-12-31 19:49:30+00:00  TritonTheBadman   \n",
              "7  2022-12-31 19:40:09+00:00       Kurtzer_MD   \n",
              "8  2022-12-31 19:12:59+00:00    SassyIsMe1961   \n",
              "9  2022-12-31 17:12:51+00:00      wastelessme   \n",
              "\n",
              "                                                text  LikeCount  RetweetCount  \\\n",
              "0  SO Thankful for new friendships I've made here...       25.0           4.0   \n",
              "1  This year I \\n-survived 6 months &amp; countin...        2.0           0.0   \n",
              "2  Ok these were my favorite shows I watched in 2...      148.0          12.0   \n",
              "3  Wish today was more celebratory for me. 2yrs o...        3.0           0.0   \n",
              "4  No celebrating today as two yrs ago at 7:30pm ...      584.0          66.0   \n",
              "5  At the 2021 I really felt like saying \"Good ri...        2.0           0.0   \n",
              "6  @profnfenton @jengleruk I know so many people ...        1.0           0.0   \n",
              "7  @GeoEduOne @LaRougeAbeille I’m so sorry! It wa...        2.0           0.0   \n",
              "8  @OmarRiverosays It’s too bad he didn’t tell us...        4.0           1.0   \n",
              "9  Final walk of 22 - I won’t be sad to wave good...       11.0           0.0   \n",
              "\n",
              "   ReplyCount  ViewCount Place                                     Hashtags  \\\n",
              "0         0.0     1304.0   NaN                                ['LongCovid']   \n",
              "1         0.0       89.0   NaN                                ['LongCovid']   \n",
              "2        36.0    18852.0   NaN                                ['LongCovid']   \n",
              "3         0.0      196.0   NaN                                ['LongCovid']   \n",
              "4        27.0    22340.0   NaN                                ['LongCovid']   \n",
              "5         0.0      127.0   NaN                                ['longcovid']   \n",
              "6         1.0      110.0   NaN                                ['Longcovid']   \n",
              "7         0.0      112.0   NaN                          ['ME', 'longcovid']   \n",
              "8         0.0       39.0   NaN                                ['LongCovid']   \n",
              "9         1.0      281.0   NaN  ['LongCovid', 'smallsteps', 'HappyNewYear']   \n",
              "\n",
              "   PCS_patient  MentalHealth     label  \\\n",
              "0            1             0      mild   \n",
              "1            1             0      mild   \n",
              "2            1             0      mild   \n",
              "3            1             0  moderate   \n",
              "4            1             0  moderate   \n",
              "5            1             0      mild   \n",
              "6            1             0  moderate   \n",
              "7            1             0  moderate   \n",
              "8            1             0  moderate   \n",
              "9            1             0      mild   \n",
              "\n",
              "                                              tokens  tweet_sentiment  \n",
              "0  [so, thank, for, new, friendship, i, ve, made,...                1  \n",
              "1  [this, year, i, -surviv, 6, month, &, amp, ;, ...                1  \n",
              "2  [ok, these, were, my, favorit, show, i, watch,...                1  \n",
              "3  [wish, today, was, more, celebratori, for, me,...                0  \n",
              "4  [no, celebr, today, as, two, yrs, ago, at, 7:3...                0  \n",
              "5  [at, the, 2021, i, realli, felt, like, say, ``...                1  \n",
              "6  [user, user, i, know, so, mani, peopl, who, ha...                0  \n",
              "7  [user, user, i, ’, m, so, sorri, !, it, was, m...                0  \n",
              "8  [user, it, ’, s, too, bad, he, didn, ’, t, tel...                0  \n",
              "9  [final, walk, of, 22, -, i, won, ’, t, be, sad...                1  "
            ],
            "text/html": [
              "\n",
              "  <div id=\"df-fdd5694d-e0f4-4381-8520-20abe3cba08c\" class=\"colab-df-container\">\n",
              "    <div>\n",
              "<style scoped>\n",
              "    .dataframe tbody tr th:only-of-type {\n",
              "        vertical-align: middle;\n",
              "    }\n",
              "\n",
              "    .dataframe tbody tr th {\n",
              "        vertical-align: top;\n",
              "    }\n",
              "\n",
              "    .dataframe thead th {\n",
              "        text-align: right;\n",
              "    }\n",
              "</style>\n",
              "<table border=\"1\" class=\"dataframe\">\n",
              "  <thead>\n",
              "    <tr style=\"text-align: right;\">\n",
              "      <th></th>\n",
              "      <th>Date</th>\n",
              "      <th>User</th>\n",
              "      <th>text</th>\n",
              "      <th>LikeCount</th>\n",
              "      <th>RetweetCount</th>\n",
              "      <th>ReplyCount</th>\n",
              "      <th>ViewCount</th>\n",
              "      <th>Place</th>\n",
              "      <th>Hashtags</th>\n",
              "      <th>PCS_patient</th>\n",
              "      <th>MentalHealth</th>\n",
              "      <th>label</th>\n",
              "      <th>tokens</th>\n",
              "      <th>tweet_sentiment</th>\n",
              "    </tr>\n",
              "  </thead>\n",
              "  <tbody>\n",
              "    <tr>\n",
              "      <th>0</th>\n",
              "      <td>2022-12-31 23:46:48+00:00</td>\n",
              "      <td>TheExtraFiles</td>\n",
              "      <td>SO Thankful for new friendships I've made here...</td>\n",
              "      <td>25.0</td>\n",
              "      <td>4.0</td>\n",
              "      <td>0.0</td>\n",
              "      <td>1304.0</td>\n",
              "      <td>NaN</td>\n",
              "      <td>['LongCovid']</td>\n",
              "      <td>1</td>\n",
              "      <td>0</td>\n",
              "      <td>mild</td>\n",
              "      <td>[so, thank, for, new, friendship, i, ve, made,...</td>\n",
              "      <td>1</td>\n",
              "    </tr>\n",
              "    <tr>\n",
              "      <th>1</th>\n",
              "      <td>2022-12-31 23:38:08+00:00</td>\n",
              "      <td>elusivechantues</td>\n",
              "      <td>This year I \\n-survived 6 months &amp;amp; countin...</td>\n",
              "      <td>2.0</td>\n",
              "      <td>0.0</td>\n",
              "      <td>0.0</td>\n",
              "      <td>89.0</td>\n",
              "      <td>NaN</td>\n",
              "      <td>['LongCovid']</td>\n",
              "      <td>1</td>\n",
              "      <td>0</td>\n",
              "      <td>mild</td>\n",
              "      <td>[this, year, i, -surviv, 6, month, &amp;, amp, ;, ...</td>\n",
              "      <td>1</td>\n",
              "    </tr>\n",
              "    <tr>\n",
              "      <th>2</th>\n",
              "      <td>2022-12-31 22:57:50+00:00</td>\n",
              "      <td>loscharlos</td>\n",
              "      <td>Ok these were my favorite shows I watched in 2...</td>\n",
              "      <td>148.0</td>\n",
              "      <td>12.0</td>\n",
              "      <td>36.0</td>\n",
              "      <td>18852.0</td>\n",
              "      <td>NaN</td>\n",
              "      <td>['LongCovid']</td>\n",
              "      <td>1</td>\n",
              "      <td>0</td>\n",
              "      <td>mild</td>\n",
              "      <td>[ok, these, were, my, favorit, show, i, watch,...</td>\n",
              "      <td>1</td>\n",
              "    </tr>\n",
              "    <tr>\n",
              "      <th>3</th>\n",
              "      <td>2022-12-31 22:57:35+00:00</td>\n",
              "      <td>pegsatthemovies</td>\n",
              "      <td>Wish today was more celebratory for me. 2yrs o...</td>\n",
              "      <td>3.0</td>\n",
              "      <td>0.0</td>\n",
              "      <td>0.0</td>\n",
              "      <td>196.0</td>\n",
              "      <td>NaN</td>\n",
              "      <td>['LongCovid']</td>\n",
              "      <td>1</td>\n",
              "      <td>0</td>\n",
              "      <td>moderate</td>\n",
              "      <td>[wish, today, was, more, celebratori, for, me,...</td>\n",
              "      <td>0</td>\n",
              "    </tr>\n",
              "    <tr>\n",
              "      <th>4</th>\n",
              "      <td>2022-12-31 22:50:29+00:00</td>\n",
              "      <td>Peggles12</td>\n",
              "      <td>No celebrating today as two yrs ago at 7:30pm ...</td>\n",
              "      <td>584.0</td>\n",
              "      <td>66.0</td>\n",
              "      <td>27.0</td>\n",
              "      <td>22340.0</td>\n",
              "      <td>NaN</td>\n",
              "      <td>['LongCovid']</td>\n",
              "      <td>1</td>\n",
              "      <td>0</td>\n",
              "      <td>moderate</td>\n",
              "      <td>[no, celebr, today, as, two, yrs, ago, at, 7:3...</td>\n",
              "      <td>0</td>\n",
              "    </tr>\n",
              "    <tr>\n",
              "      <th>5</th>\n",
              "      <td>2022-12-31 22:24:32+00:00</td>\n",
              "      <td>LongCovidComms</td>\n",
              "      <td>At the 2021 I really felt like saying \"Good ri...</td>\n",
              "      <td>2.0</td>\n",
              "      <td>0.0</td>\n",
              "      <td>0.0</td>\n",
              "      <td>127.0</td>\n",
              "      <td>NaN</td>\n",
              "      <td>['longcovid']</td>\n",
              "      <td>1</td>\n",
              "      <td>0</td>\n",
              "      <td>mild</td>\n",
              "      <td>[at, the, 2021, i, realli, felt, like, say, ``...</td>\n",
              "      <td>1</td>\n",
              "    </tr>\n",
              "    <tr>\n",
              "      <th>6</th>\n",
              "      <td>2022-12-31 19:49:30+00:00</td>\n",
              "      <td>TritonTheBadman</td>\n",
              "      <td>@profnfenton @jengleruk I know so many people ...</td>\n",
              "      <td>1.0</td>\n",
              "      <td>0.0</td>\n",
              "      <td>1.0</td>\n",
              "      <td>110.0</td>\n",
              "      <td>NaN</td>\n",
              "      <td>['Longcovid']</td>\n",
              "      <td>1</td>\n",
              "      <td>0</td>\n",
              "      <td>moderate</td>\n",
              "      <td>[user, user, i, know, so, mani, peopl, who, ha...</td>\n",
              "      <td>0</td>\n",
              "    </tr>\n",
              "    <tr>\n",
              "      <th>7</th>\n",
              "      <td>2022-12-31 19:40:09+00:00</td>\n",
              "      <td>Kurtzer_MD</td>\n",
              "      <td>@GeoEduOne @LaRougeAbeille I’m so sorry! It wa...</td>\n",
              "      <td>2.0</td>\n",
              "      <td>0.0</td>\n",
              "      <td>0.0</td>\n",
              "      <td>112.0</td>\n",
              "      <td>NaN</td>\n",
              "      <td>['ME', 'longcovid']</td>\n",
              "      <td>1</td>\n",
              "      <td>0</td>\n",
              "      <td>moderate</td>\n",
              "      <td>[user, user, i, ’, m, so, sorri, !, it, was, m...</td>\n",
              "      <td>0</td>\n",
              "    </tr>\n",
              "    <tr>\n",
              "      <th>8</th>\n",
              "      <td>2022-12-31 19:12:59+00:00</td>\n",
              "      <td>SassyIsMe1961</td>\n",
              "      <td>@OmarRiverosays It’s too bad he didn’t tell us...</td>\n",
              "      <td>4.0</td>\n",
              "      <td>1.0</td>\n",
              "      <td>0.0</td>\n",
              "      <td>39.0</td>\n",
              "      <td>NaN</td>\n",
              "      <td>['LongCovid']</td>\n",
              "      <td>1</td>\n",
              "      <td>0</td>\n",
              "      <td>moderate</td>\n",
              "      <td>[user, it, ’, s, too, bad, he, didn, ’, t, tel...</td>\n",
              "      <td>0</td>\n",
              "    </tr>\n",
              "    <tr>\n",
              "      <th>9</th>\n",
              "      <td>2022-12-31 17:12:51+00:00</td>\n",
              "      <td>wastelessme</td>\n",
              "      <td>Final walk of 22 - I won’t be sad to wave good...</td>\n",
              "      <td>11.0</td>\n",
              "      <td>0.0</td>\n",
              "      <td>1.0</td>\n",
              "      <td>281.0</td>\n",
              "      <td>NaN</td>\n",
              "      <td>['LongCovid', 'smallsteps', 'HappyNewYear']</td>\n",
              "      <td>1</td>\n",
              "      <td>0</td>\n",
              "      <td>mild</td>\n",
              "      <td>[final, walk, of, 22, -, i, won, ’, t, be, sad...</td>\n",
              "      <td>1</td>\n",
              "    </tr>\n",
              "  </tbody>\n",
              "</table>\n",
              "</div>\n",
              "    <div class=\"colab-df-buttons\">\n",
              "\n",
              "  <div class=\"colab-df-container\">\n",
              "    <button class=\"colab-df-convert\" onclick=\"convertToInteractive('df-fdd5694d-e0f4-4381-8520-20abe3cba08c')\"\n",
              "            title=\"Convert this dataframe to an interactive table.\"\n",
              "            style=\"display:none;\">\n",
              "\n",
              "  <svg xmlns=\"http://www.w3.org/2000/svg\" height=\"24px\" viewBox=\"0 -960 960 960\">\n",
              "    <path d=\"M120-120v-720h720v720H120Zm60-500h600v-160H180v160Zm220 220h160v-160H400v160Zm0 220h160v-160H400v160ZM180-400h160v-160H180v160Zm440 0h160v-160H620v160ZM180-180h160v-160H180v160Zm440 0h160v-160H620v160Z\"/>\n",
              "  </svg>\n",
              "    </button>\n",
              "\n",
              "  <style>\n",
              "    .colab-df-container {\n",
              "      display:flex;\n",
              "      gap: 12px;\n",
              "    }\n",
              "\n",
              "    .colab-df-convert {\n",
              "      background-color: #E8F0FE;\n",
              "      border: none;\n",
              "      border-radius: 50%;\n",
              "      cursor: pointer;\n",
              "      display: none;\n",
              "      fill: #1967D2;\n",
              "      height: 32px;\n",
              "      padding: 0 0 0 0;\n",
              "      width: 32px;\n",
              "    }\n",
              "\n",
              "    .colab-df-convert:hover {\n",
              "      background-color: #E2EBFA;\n",
              "      box-shadow: 0px 1px 2px rgba(60, 64, 67, 0.3), 0px 1px 3px 1px rgba(60, 64, 67, 0.15);\n",
              "      fill: #174EA6;\n",
              "    }\n",
              "\n",
              "    .colab-df-buttons div {\n",
              "      margin-bottom: 4px;\n",
              "    }\n",
              "\n",
              "    [theme=dark] .colab-df-convert {\n",
              "      background-color: #3B4455;\n",
              "      fill: #D2E3FC;\n",
              "    }\n",
              "\n",
              "    [theme=dark] .colab-df-convert:hover {\n",
              "      background-color: #434B5C;\n",
              "      box-shadow: 0px 1px 3px 1px rgba(0, 0, 0, 0.15);\n",
              "      filter: drop-shadow(0px 1px 2px rgba(0, 0, 0, 0.3));\n",
              "      fill: #FFFFFF;\n",
              "    }\n",
              "  </style>\n",
              "\n",
              "    <script>\n",
              "      const buttonEl =\n",
              "        document.querySelector('#df-fdd5694d-e0f4-4381-8520-20abe3cba08c button.colab-df-convert');\n",
              "      buttonEl.style.display =\n",
              "        google.colab.kernel.accessAllowed ? 'block' : 'none';\n",
              "\n",
              "      async function convertToInteractive(key) {\n",
              "        const element = document.querySelector('#df-fdd5694d-e0f4-4381-8520-20abe3cba08c');\n",
              "        const dataTable =\n",
              "          await google.colab.kernel.invokeFunction('convertToInteractive',\n",
              "                                                    [key], {});\n",
              "        if (!dataTable) return;\n",
              "\n",
              "        const docLinkHtml = 'Like what you see? Visit the ' +\n",
              "          '<a target=\"_blank\" href=https://colab.research.google.com/notebooks/data_table.ipynb>data table notebook</a>'\n",
              "          + ' to learn more about interactive tables.';\n",
              "        element.innerHTML = '';\n",
              "        dataTable['output_type'] = 'display_data';\n",
              "        await google.colab.output.renderOutput(dataTable, element);\n",
              "        const docLink = document.createElement('div');\n",
              "        docLink.innerHTML = docLinkHtml;\n",
              "        element.appendChild(docLink);\n",
              "      }\n",
              "    </script>\n",
              "  </div>\n",
              "\n",
              "\n",
              "<div id=\"df-b92c9e16-d2e2-4786-9392-e53909e4a8a5\">\n",
              "  <button class=\"colab-df-quickchart\" onclick=\"quickchart('df-b92c9e16-d2e2-4786-9392-e53909e4a8a5')\"\n",
              "            title=\"Suggest charts.\"\n",
              "            style=\"display:none;\">\n",
              "\n",
              "<svg xmlns=\"http://www.w3.org/2000/svg\" height=\"24px\"viewBox=\"0 0 24 24\"\n",
              "     width=\"24px\">\n",
              "    <g>\n",
              "        <path d=\"M19 3H5c-1.1 0-2 .9-2 2v14c0 1.1.9 2 2 2h14c1.1 0 2-.9 2-2V5c0-1.1-.9-2-2-2zM9 17H7v-7h2v7zm4 0h-2V7h2v10zm4 0h-2v-4h2v4z\"/>\n",
              "    </g>\n",
              "</svg>\n",
              "  </button>\n",
              "\n",
              "<style>\n",
              "  .colab-df-quickchart {\n",
              "    background-color: #E8F0FE;\n",
              "    border: none;\n",
              "    border-radius: 50%;\n",
              "    cursor: pointer;\n",
              "    display: none;\n",
              "    fill: #1967D2;\n",
              "    height: 32px;\n",
              "    padding: 0 0 0 0;\n",
              "    width: 32px;\n",
              "  }\n",
              "\n",
              "  .colab-df-quickchart:hover {\n",
              "    background-color: #E2EBFA;\n",
              "    box-shadow: 0px 1px 2px rgba(60, 64, 67, 0.3), 0px 1px 3px 1px rgba(60, 64, 67, 0.15);\n",
              "    fill: #174EA6;\n",
              "  }\n",
              "\n",
              "  [theme=dark] .colab-df-quickchart {\n",
              "    background-color: #3B4455;\n",
              "    fill: #D2E3FC;\n",
              "  }\n",
              "\n",
              "  [theme=dark] .colab-df-quickchart:hover {\n",
              "    background-color: #434B5C;\n",
              "    box-shadow: 0px 1px 3px 1px rgba(0, 0, 0, 0.15);\n",
              "    filter: drop-shadow(0px 1px 2px rgba(0, 0, 0, 0.3));\n",
              "    fill: #FFFFFF;\n",
              "  }\n",
              "</style>\n",
              "\n",
              "  <script>\n",
              "    async function quickchart(key) {\n",
              "      const charts = await google.colab.kernel.invokeFunction(\n",
              "          'suggestCharts', [key], {});\n",
              "    }\n",
              "    (() => {\n",
              "      let quickchartButtonEl =\n",
              "        document.querySelector('#df-b92c9e16-d2e2-4786-9392-e53909e4a8a5 button');\n",
              "      quickchartButtonEl.style.display =\n",
              "        google.colab.kernel.accessAllowed ? 'block' : 'none';\n",
              "    })();\n",
              "  </script>\n",
              "</div>\n",
              "    </div>\n",
              "  </div>\n"
            ]
          },
          "metadata": {},
          "execution_count": 36
        }
      ]
    },
    {
      "cell_type": "code",
      "source": [
        "columns_to_delete = [\"LikeCount\", \"RetweetCount\", \"Place\", \"ReplyCount\", \"ViewCount\"]\n",
        "df = df.drop(columns=columns_to_delete)\n"
      ],
      "metadata": {
        "id": "J1gql7Bee5C6"
      },
      "execution_count": 37,
      "outputs": []
    },
    {
      "cell_type": "code",
      "source": [
        "df.head()\n"
      ],
      "metadata": {
        "id": "Y7I_FJz4flvj",
        "colab": {
          "base_uri": "https://localhost:8080/",
          "height": 293
        },
        "outputId": "f444e56c-b514-4e84-82cd-d60bc1ddaaea"
      },
      "execution_count": 38,
      "outputs": [
        {
          "output_type": "execute_result",
          "data": {
            "text/plain": [
              "                        Date             User  \\\n",
              "0  2022-12-31 23:46:48+00:00    TheExtraFiles   \n",
              "1  2022-12-31 23:38:08+00:00  elusivechantues   \n",
              "2  2022-12-31 22:57:50+00:00       loscharlos   \n",
              "3  2022-12-31 22:57:35+00:00  pegsatthemovies   \n",
              "4  2022-12-31 22:50:29+00:00        Peggles12   \n",
              "\n",
              "                                                text       Hashtags  \\\n",
              "0  SO Thankful for new friendships I've made here...  ['LongCovid']   \n",
              "1  This year I \\n-survived 6 months &amp; countin...  ['LongCovid']   \n",
              "2  Ok these were my favorite shows I watched in 2...  ['LongCovid']   \n",
              "3  Wish today was more celebratory for me. 2yrs o...  ['LongCovid']   \n",
              "4  No celebrating today as two yrs ago at 7:30pm ...  ['LongCovid']   \n",
              "\n",
              "   PCS_patient  MentalHealth     label  \\\n",
              "0            1             0      mild   \n",
              "1            1             0      mild   \n",
              "2            1             0      mild   \n",
              "3            1             0  moderate   \n",
              "4            1             0  moderate   \n",
              "\n",
              "                                              tokens  tweet_sentiment  \n",
              "0  [so, thank, for, new, friendship, i, ve, made,...                1  \n",
              "1  [this, year, i, -surviv, 6, month, &, amp, ;, ...                1  \n",
              "2  [ok, these, were, my, favorit, show, i, watch,...                1  \n",
              "3  [wish, today, was, more, celebratori, for, me,...                0  \n",
              "4  [no, celebr, today, as, two, yrs, ago, at, 7:3...                0  "
            ],
            "text/html": [
              "\n",
              "  <div id=\"df-0f5d3a4c-7bc8-4cfa-af57-ddc4fbaf7343\" class=\"colab-df-container\">\n",
              "    <div>\n",
              "<style scoped>\n",
              "    .dataframe tbody tr th:only-of-type {\n",
              "        vertical-align: middle;\n",
              "    }\n",
              "\n",
              "    .dataframe tbody tr th {\n",
              "        vertical-align: top;\n",
              "    }\n",
              "\n",
              "    .dataframe thead th {\n",
              "        text-align: right;\n",
              "    }\n",
              "</style>\n",
              "<table border=\"1\" class=\"dataframe\">\n",
              "  <thead>\n",
              "    <tr style=\"text-align: right;\">\n",
              "      <th></th>\n",
              "      <th>Date</th>\n",
              "      <th>User</th>\n",
              "      <th>text</th>\n",
              "      <th>Hashtags</th>\n",
              "      <th>PCS_patient</th>\n",
              "      <th>MentalHealth</th>\n",
              "      <th>label</th>\n",
              "      <th>tokens</th>\n",
              "      <th>tweet_sentiment</th>\n",
              "    </tr>\n",
              "  </thead>\n",
              "  <tbody>\n",
              "    <tr>\n",
              "      <th>0</th>\n",
              "      <td>2022-12-31 23:46:48+00:00</td>\n",
              "      <td>TheExtraFiles</td>\n",
              "      <td>SO Thankful for new friendships I've made here...</td>\n",
              "      <td>['LongCovid']</td>\n",
              "      <td>1</td>\n",
              "      <td>0</td>\n",
              "      <td>mild</td>\n",
              "      <td>[so, thank, for, new, friendship, i, ve, made,...</td>\n",
              "      <td>1</td>\n",
              "    </tr>\n",
              "    <tr>\n",
              "      <th>1</th>\n",
              "      <td>2022-12-31 23:38:08+00:00</td>\n",
              "      <td>elusivechantues</td>\n",
              "      <td>This year I \\n-survived 6 months &amp;amp; countin...</td>\n",
              "      <td>['LongCovid']</td>\n",
              "      <td>1</td>\n",
              "      <td>0</td>\n",
              "      <td>mild</td>\n",
              "      <td>[this, year, i, -surviv, 6, month, &amp;, amp, ;, ...</td>\n",
              "      <td>1</td>\n",
              "    </tr>\n",
              "    <tr>\n",
              "      <th>2</th>\n",
              "      <td>2022-12-31 22:57:50+00:00</td>\n",
              "      <td>loscharlos</td>\n",
              "      <td>Ok these were my favorite shows I watched in 2...</td>\n",
              "      <td>['LongCovid']</td>\n",
              "      <td>1</td>\n",
              "      <td>0</td>\n",
              "      <td>mild</td>\n",
              "      <td>[ok, these, were, my, favorit, show, i, watch,...</td>\n",
              "      <td>1</td>\n",
              "    </tr>\n",
              "    <tr>\n",
              "      <th>3</th>\n",
              "      <td>2022-12-31 22:57:35+00:00</td>\n",
              "      <td>pegsatthemovies</td>\n",
              "      <td>Wish today was more celebratory for me. 2yrs o...</td>\n",
              "      <td>['LongCovid']</td>\n",
              "      <td>1</td>\n",
              "      <td>0</td>\n",
              "      <td>moderate</td>\n",
              "      <td>[wish, today, was, more, celebratori, for, me,...</td>\n",
              "      <td>0</td>\n",
              "    </tr>\n",
              "    <tr>\n",
              "      <th>4</th>\n",
              "      <td>2022-12-31 22:50:29+00:00</td>\n",
              "      <td>Peggles12</td>\n",
              "      <td>No celebrating today as two yrs ago at 7:30pm ...</td>\n",
              "      <td>['LongCovid']</td>\n",
              "      <td>1</td>\n",
              "      <td>0</td>\n",
              "      <td>moderate</td>\n",
              "      <td>[no, celebr, today, as, two, yrs, ago, at, 7:3...</td>\n",
              "      <td>0</td>\n",
              "    </tr>\n",
              "  </tbody>\n",
              "</table>\n",
              "</div>\n",
              "    <div class=\"colab-df-buttons\">\n",
              "\n",
              "  <div class=\"colab-df-container\">\n",
              "    <button class=\"colab-df-convert\" onclick=\"convertToInteractive('df-0f5d3a4c-7bc8-4cfa-af57-ddc4fbaf7343')\"\n",
              "            title=\"Convert this dataframe to an interactive table.\"\n",
              "            style=\"display:none;\">\n",
              "\n",
              "  <svg xmlns=\"http://www.w3.org/2000/svg\" height=\"24px\" viewBox=\"0 -960 960 960\">\n",
              "    <path d=\"M120-120v-720h720v720H120Zm60-500h600v-160H180v160Zm220 220h160v-160H400v160Zm0 220h160v-160H400v160ZM180-400h160v-160H180v160Zm440 0h160v-160H620v160ZM180-180h160v-160H180v160Zm440 0h160v-160H620v160Z\"/>\n",
              "  </svg>\n",
              "    </button>\n",
              "\n",
              "  <style>\n",
              "    .colab-df-container {\n",
              "      display:flex;\n",
              "      gap: 12px;\n",
              "    }\n",
              "\n",
              "    .colab-df-convert {\n",
              "      background-color: #E8F0FE;\n",
              "      border: none;\n",
              "      border-radius: 50%;\n",
              "      cursor: pointer;\n",
              "      display: none;\n",
              "      fill: #1967D2;\n",
              "      height: 32px;\n",
              "      padding: 0 0 0 0;\n",
              "      width: 32px;\n",
              "    }\n",
              "\n",
              "    .colab-df-convert:hover {\n",
              "      background-color: #E2EBFA;\n",
              "      box-shadow: 0px 1px 2px rgba(60, 64, 67, 0.3), 0px 1px 3px 1px rgba(60, 64, 67, 0.15);\n",
              "      fill: #174EA6;\n",
              "    }\n",
              "\n",
              "    .colab-df-buttons div {\n",
              "      margin-bottom: 4px;\n",
              "    }\n",
              "\n",
              "    [theme=dark] .colab-df-convert {\n",
              "      background-color: #3B4455;\n",
              "      fill: #D2E3FC;\n",
              "    }\n",
              "\n",
              "    [theme=dark] .colab-df-convert:hover {\n",
              "      background-color: #434B5C;\n",
              "      box-shadow: 0px 1px 3px 1px rgba(0, 0, 0, 0.15);\n",
              "      filter: drop-shadow(0px 1px 2px rgba(0, 0, 0, 0.3));\n",
              "      fill: #FFFFFF;\n",
              "    }\n",
              "  </style>\n",
              "\n",
              "    <script>\n",
              "      const buttonEl =\n",
              "        document.querySelector('#df-0f5d3a4c-7bc8-4cfa-af57-ddc4fbaf7343 button.colab-df-convert');\n",
              "      buttonEl.style.display =\n",
              "        google.colab.kernel.accessAllowed ? 'block' : 'none';\n",
              "\n",
              "      async function convertToInteractive(key) {\n",
              "        const element = document.querySelector('#df-0f5d3a4c-7bc8-4cfa-af57-ddc4fbaf7343');\n",
              "        const dataTable =\n",
              "          await google.colab.kernel.invokeFunction('convertToInteractive',\n",
              "                                                    [key], {});\n",
              "        if (!dataTable) return;\n",
              "\n",
              "        const docLinkHtml = 'Like what you see? Visit the ' +\n",
              "          '<a target=\"_blank\" href=https://colab.research.google.com/notebooks/data_table.ipynb>data table notebook</a>'\n",
              "          + ' to learn more about interactive tables.';\n",
              "        element.innerHTML = '';\n",
              "        dataTable['output_type'] = 'display_data';\n",
              "        await google.colab.output.renderOutput(dataTable, element);\n",
              "        const docLink = document.createElement('div');\n",
              "        docLink.innerHTML = docLinkHtml;\n",
              "        element.appendChild(docLink);\n",
              "      }\n",
              "    </script>\n",
              "  </div>\n",
              "\n",
              "\n",
              "<div id=\"df-1120d2b4-27d0-450b-af09-100964c76285\">\n",
              "  <button class=\"colab-df-quickchart\" onclick=\"quickchart('df-1120d2b4-27d0-450b-af09-100964c76285')\"\n",
              "            title=\"Suggest charts.\"\n",
              "            style=\"display:none;\">\n",
              "\n",
              "<svg xmlns=\"http://www.w3.org/2000/svg\" height=\"24px\"viewBox=\"0 0 24 24\"\n",
              "     width=\"24px\">\n",
              "    <g>\n",
              "        <path d=\"M19 3H5c-1.1 0-2 .9-2 2v14c0 1.1.9 2 2 2h14c1.1 0 2-.9 2-2V5c0-1.1-.9-2-2-2zM9 17H7v-7h2v7zm4 0h-2V7h2v10zm4 0h-2v-4h2v4z\"/>\n",
              "    </g>\n",
              "</svg>\n",
              "  </button>\n",
              "\n",
              "<style>\n",
              "  .colab-df-quickchart {\n",
              "    background-color: #E8F0FE;\n",
              "    border: none;\n",
              "    border-radius: 50%;\n",
              "    cursor: pointer;\n",
              "    display: none;\n",
              "    fill: #1967D2;\n",
              "    height: 32px;\n",
              "    padding: 0 0 0 0;\n",
              "    width: 32px;\n",
              "  }\n",
              "\n",
              "  .colab-df-quickchart:hover {\n",
              "    background-color: #E2EBFA;\n",
              "    box-shadow: 0px 1px 2px rgba(60, 64, 67, 0.3), 0px 1px 3px 1px rgba(60, 64, 67, 0.15);\n",
              "    fill: #174EA6;\n",
              "  }\n",
              "\n",
              "  [theme=dark] .colab-df-quickchart {\n",
              "    background-color: #3B4455;\n",
              "    fill: #D2E3FC;\n",
              "  }\n",
              "\n",
              "  [theme=dark] .colab-df-quickchart:hover {\n",
              "    background-color: #434B5C;\n",
              "    box-shadow: 0px 1px 3px 1px rgba(0, 0, 0, 0.15);\n",
              "    filter: drop-shadow(0px 1px 2px rgba(0, 0, 0, 0.3));\n",
              "    fill: #FFFFFF;\n",
              "  }\n",
              "</style>\n",
              "\n",
              "  <script>\n",
              "    async function quickchart(key) {\n",
              "      const charts = await google.colab.kernel.invokeFunction(\n",
              "          'suggestCharts', [key], {});\n",
              "    }\n",
              "    (() => {\n",
              "      let quickchartButtonEl =\n",
              "        document.querySelector('#df-1120d2b4-27d0-450b-af09-100964c76285 button');\n",
              "      quickchartButtonEl.style.display =\n",
              "        google.colab.kernel.accessAllowed ? 'block' : 'none';\n",
              "    })();\n",
              "  </script>\n",
              "</div>\n",
              "    </div>\n",
              "  </div>\n"
            ]
          },
          "metadata": {},
          "execution_count": 38
        }
      ]
    },
    {
      "cell_type": "code",
      "source": [
        "x = df[\"tokens\"].tolist()\n",
        "y = df[\"tweet_sentiment\"].tolist()"
      ],
      "metadata": {
        "id": "t2HKXKetgZi-"
      },
      "execution_count": 39,
      "outputs": []
    },
    {
      "cell_type": "code",
      "source": [],
      "metadata": {
        "id": "VRXjJM2fzJOm"
      },
      "execution_count": 39,
      "outputs": []
    },
    {
      "cell_type": "code",
      "source": [
        "from sklearn.feature_extraction.text import TfidfVectorizer"
      ],
      "metadata": {
        "id": "hD-suXubgj8-"
      },
      "execution_count": 40,
      "outputs": []
    },
    {
      "cell_type": "markdown",
      "source": [],
      "metadata": {
        "id": "98hN72Ym8HM2"
      }
    },
    {
      "cell_type": "code",
      "source": [
        "def fit_tfidf(tweet_corpus):\n",
        "  tf_vect = TfidfVectorizer(preprocessor = lambda x: x,\n",
        "                            tokenizer=lambda x: x)\n",
        "\n",
        "  tf_vect.fit(tweet_corpus)\n",
        "  return tf_vect"
      ],
      "metadata": {
        "id": "YRmc3hDyglRL"
      },
      "execution_count": 41,
      "outputs": []
    },
    {
      "cell_type": "code",
      "source": [
        "from sklearn.model_selection import train_test_split"
      ],
      "metadata": {
        "id": "xTjgEscvgmAg"
      },
      "execution_count": 42,
      "outputs": []
    },
    {
      "cell_type": "code",
      "source": [],
      "metadata": {
        "id": "Xn00HGB5gpqv"
      },
      "execution_count": 42,
      "outputs": []
    },
    {
      "cell_type": "code",
      "source": [
        "X_train , X_test , y_train , y_test = train_test_split(x,y,random_state=0, train_size=0.80)"
      ],
      "metadata": {
        "id": "x_DVeIJqgqy7"
      },
      "execution_count": 43,
      "outputs": []
    },
    {
      "cell_type": "code",
      "source": [
        "import random"
      ],
      "metadata": {
        "id": "duauMMs1g483"
      },
      "execution_count": 44,
      "outputs": []
    },
    {
      "cell_type": "code",
      "source": [
        "id = random.randint(0,len(X_train))\n",
        "print(\"Train tweet: {}\".format(X_train[id]))\n",
        "print(\"Sentiment t: {}\".format(y_train[id]))\n"
      ],
      "metadata": {
        "id": "ouCOnTllg5YN",
        "colab": {
          "base_uri": "https://localhost:8080/"
        },
        "outputId": "17546a7c-9ff1-47d5-f6f6-af6c0b491832"
      },
      "execution_count": 45,
      "outputs": [
        {
          "output_type": "stream",
          "name": "stdout",
          "text": [
            "Train tweet: ['my', 'new', 'game', 'is', 'see', 'how', 'low', 'i', 'can', 'keep', 'my', 'hr', 'while', 'still', 'technic', 'jog', '.', '🐢', '🐌', '🦥', 'hr', 'was', 'be', 'jumpi', 'the', 'whole', 'time', ',', 'not', 'sure', 'whi', '.', 'longcovid']\n",
            "Sentiment t: 2\n"
          ]
        }
      ]
    },
    {
      "cell_type": "code",
      "source": [],
      "metadata": {
        "id": "S1i_9vnJg7nF"
      },
      "execution_count": 45,
      "outputs": []
    },
    {
      "cell_type": "code",
      "source": [
        "from sklearn.linear_model import LogisticRegression"
      ],
      "metadata": {
        "id": "JbZEVLhbhEN8"
      },
      "execution_count": 46,
      "outputs": []
    },
    {
      "cell_type": "code",
      "source": [
        "from sklearn.linear_model import LogisticRegression\n",
        "from sklearn.metrics import accuracy_score, confusion_matrix\n",
        "from sklearn.model_selection import train_test_split\n",
        "from sklearn.feature_extraction.text import TfidfVectorizer\n",
        "\n",
        "# Replace with your actual data\n",
        "x = df[\"tokens\"].tolist()  # List of tokenized tweets\n",
        "y = df[\"tweet_sentiment\"].tolist()  # List of sentiment labels\n",
        "\n",
        "# Splitting the data into training and testing sets\n",
        "X_train, X_test, y_train, y_test = train_test_split(x, y, test_size=0.2, random_state=42)\n",
        "\n",
        "# Convert tokens back to text for TfidfVectorizer\n",
        "X_train_text = [' '.join(tokens) for tokens in X_train]\n",
        "X_test_text = [' '.join(tokens) for tokens in X_test]\n",
        "\n",
        "# Create a TF-IDF vectorizer\n",
        "tfidf_vectorizer = TfidfVectorizer()\n",
        "X_train_tfidf = tfidf_vectorizer.fit_transform(X_train_text)\n",
        "X_test_tfidf = tfidf_vectorizer.transform(X_test_text)\n",
        "\n",
        "# Create a multi-class Logistic Regression model\n",
        "model = LogisticRegression(multi_class='ovr', max_iter=100)  # Using 'ovr' for one-vs-rest\n",
        "model.fit(X_train_tfidf, y_train)\n",
        "\n",
        "# Predict sentiment labels\n",
        "y_pred = model.predict(X_test_tfidf)\n",
        "\n",
        "print(\"Multi-class Logistic Regression Accuracy: {:.2%}\".format(accuracy_score(y_test, y_pred)))\n",
        "print(\"Confusion Matrix:\\n\", confusion_matrix(y_test, y_pred))\n"
      ],
      "metadata": {
        "id": "o_-UQQAK1AaO",
        "colab": {
          "base_uri": "https://localhost:8080/"
        },
        "outputId": "98d7d884-a31a-4b9b-ccdf-7fb2516d9081"
      },
      "execution_count": 47,
      "outputs": [
        {
          "output_type": "stream",
          "name": "stdout",
          "text": [
            "Multi-class Logistic Regression Accuracy: 70.65%\n",
            "Confusion Matrix:\n",
            " [[1965   35 1140]\n",
            " [ 183  131  332]\n",
            " [ 552   31 3375]]\n"
          ]
        },
        {
          "output_type": "stream",
          "name": "stderr",
          "text": [
            "/usr/local/lib/python3.10/dist-packages/sklearn/linear_model/_logistic.py:458: ConvergenceWarning: lbfgs failed to converge (status=1):\n",
            "STOP: TOTAL NO. of ITERATIONS REACHED LIMIT.\n",
            "\n",
            "Increase the number of iterations (max_iter) or scale the data as shown in:\n",
            "    https://scikit-learn.org/stable/modules/preprocessing.html\n",
            "Please also refer to the documentation for alternative solver options:\n",
            "    https://scikit-learn.org/stable/modules/linear_model.html#logistic-regression\n",
            "  options={\"iprint\": iprint, \"gtol\": tol, \"maxiter\": max_iter},\n"
          ]
        }
      ]
    }
  ]
}